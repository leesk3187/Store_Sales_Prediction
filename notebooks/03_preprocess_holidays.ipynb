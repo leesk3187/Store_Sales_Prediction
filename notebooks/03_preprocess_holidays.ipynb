{
 "cells": [
  {
   "cell_type": "code",
   "execution_count": 1,
   "id": "89784215",
   "metadata": {},
   "outputs": [
    {
     "name": "stdout",
     "output_type": "stream",
     "text": [
      "Collecting holidays\n",
      "  Downloading holidays-0.82-py3-none-any.whl.metadata (49 kB)\n",
      "Requirement already satisfied: python-dateutil in c:\\users\\leesk\\appdata\\local\\programs\\python\\python39\\lib\\site-packages (from holidays) (2.9.0.post0)\n",
      "Requirement already satisfied: six>=1.5 in c:\\users\\leesk\\appdata\\local\\programs\\python\\python39\\lib\\site-packages (from python-dateutil->holidays) (1.17.0)\n",
      "Downloading holidays-0.82-py3-none-any.whl (1.3 MB)\n",
      "   ---------------------------------------- 0.0/1.3 MB ? eta -:--:--\n",
      "   ---------------------------------------- 1.3/1.3 MB 9.5 MB/s  0:00:00\n",
      "Installing collected packages: holidays\n",
      "Successfully installed holidays-0.82\n",
      "Note: you may need to restart the kernel to use updated packages.\n"
     ]
    }
   ],
   "source": [
    "pip install holidays"
   ]
  },
  {
   "cell_type": "code",
   "execution_count": 2,
   "id": "0bf97c2c",
   "metadata": {},
   "outputs": [],
   "source": [
    "import pandas as pd\n",
    "import holidays"
   ]
  },
  {
   "cell_type": "code",
   "execution_count": 3,
   "id": "ab9a39ff",
   "metadata": {},
   "outputs": [
    {
     "name": "stdout",
     "output_type": "stream",
     "text": [
      "--- 2023년 ~ 2025년 공휴일 (일부) ---\n",
      "[datetime.date(2023, 1, 1), datetime.date(2023, 1, 21), datetime.date(2023, 1, 22), datetime.date(2023, 1, 23), datetime.date(2023, 1, 24), datetime.date(2023, 3, 1), datetime.date(2023, 5, 5), datetime.date(2023, 5, 27), datetime.date(2023, 5, 29), datetime.date(2023, 6, 6)]\n"
     ]
    }
   ],
   "source": [
    "# 2023년부터 2025년까지의 대한민국(KR) 공휴일을 holiday_list에 저장\n",
    "holiday_list = []\n",
    "for date in holidays.KR(years=[2023, 2024, 2025]).keys():\n",
    "    holiday_list.append(date)\n",
    "\n",
    "# 날짜 순으로 정렬\n",
    "holiday_list.sort()\n",
    "\n",
    "print(\"--- 2023년 ~ 2025년 공휴일 (일부) ---\")\n",
    "print(holiday_list[:10]) # 앞에서 10개만 출력"
   ]
  },
  {
   "cell_type": "code",
   "execution_count": 4,
   "id": "1143891e",
   "metadata": {},
   "outputs": [
    {
     "name": "stdout",
     "output_type": "stream",
     "text": [
      "--- 전체 날짜 데이터프레임 ---\n",
      "        date\n",
      "0 2023-01-01\n",
      "1 2023-01-02\n",
      "2 2023-01-03\n",
      "3 2023-01-04\n",
      "4 2023-01-05\n",
      "           date\n",
      "999  2025-09-26\n",
      "1000 2025-09-27\n",
      "1001 2025-09-28\n",
      "1002 2025-09-29\n",
      "1003 2025-09-30\n"
     ]
    }
   ],
   "source": [
    "# 분석 시작일과 종료일 설정\n",
    "start_date = '2023-01-01'\n",
    "end_date = '2025-09-30'\n",
    "\n",
    "# 전체 기간의 날짜를 생성\n",
    "date_range = pd.date_range(start_date, end_date, freq='D')\n",
    "\n",
    "# 날짜를 컬럼으로 하는 데이터프레임 생성\n",
    "df_holidays = pd.DataFrame({'date': date_range})\n",
    "\n",
    "print(\"--- 전체 날짜 데이터프레임 ---\")\n",
    "print(df_holidays.head())\n",
    "print(df_holidays.tail())"
   ]
  },
  {
   "cell_type": "code",
   "execution_count": 5,
   "id": "33c736d5",
   "metadata": {},
   "outputs": [
    {
     "name": "stdout",
     "output_type": "stream",
     "text": [
      "\n",
      "--- 공휴일로 표시된 날짜 확인 ---\n",
      "         date  is_holiday\n",
      "0  2023-01-01           1\n",
      "20 2023-01-21           1\n",
      "21 2023-01-22           1\n",
      "22 2023-01-23           1\n",
      "23 2023-01-24           1\n"
     ]
    },
    {
     "name": "stderr",
     "output_type": "stream",
     "text": [
      "C:\\Users\\leesk\\AppData\\Local\\Temp\\ipykernel_51988\\3735477078.py:3: FutureWarning: The behavior of 'isin' with dtype=datetime64[ns] and castable values (e.g. strings) is deprecated. In a future version, these will not be considered matching by isin. Explicitly cast to the appropriate dtype before calling isin instead.\n",
      "  df_holidays['is_holiday'] = df_holidays['date'].isin(holiday_list).astype(int)\n"
     ]
    }
   ],
   "source": [
    "# 'date' 컬럼의 날짜가 holiday_list에 포함되어 있는지 확인하여 1 또는 0으로 변환\n",
    "# .isin() 메소드를 사용하면 간단하게 확인할 수 있습니다.\n",
    "df_holidays['is_holiday'] = df_holidays['date'].isin(holiday_list).astype(int)\n",
    "\n",
    "# 공휴일로 잘 표시되었는지 확인\n",
    "print(\"\\n--- 공휴일로 표시된 날짜 확인 ---\")\n",
    "print(df_holidays[df_holidays['is_holiday'] == 1].head())"
   ]
  },
  {
   "cell_type": "code",
   "execution_count": 10,
   "id": "488bf306",
   "metadata": {},
   "outputs": [
    {
     "name": "stdout",
     "output_type": "stream",
     "text": [
      "\n",
      "--- 이벤트로 표시된 날짜 확인 ---\n",
      "          date  is_holiday  is_event\n",
      "19  2023-01-20           0         1\n",
      "24  2023-01-25           0         1\n",
      "269 2023-09-27           0         1\n",
      "276 2023-10-04           0         1\n",
      "357 2023-12-24           0         1\n",
      "364 2023-12-31           0         1\n",
      "403 2024-02-08           0         1\n",
      "408 2024-02-13           0         1\n",
      "620 2024-09-12           0         1\n",
      "621 2024-09-13           0         1\n",
      "627 2024-09-19           0         1\n",
      "628 2024-09-20           0         1\n",
      "723 2024-12-24           0         1\n",
      "730 2024-12-31           0         1\n",
      "754 2025-01-24           0         1\n",
      "761 2025-01-31           0         1\n",
      "\n",
      "--- 최종 데이터 확인 ---\n",
      "        date  is_holiday  is_event\n",
      "0 2023-01-01           1         0\n",
      "1 2023-01-02           0         0\n",
      "2 2023-01-03           0         0\n",
      "3 2023-01-04           0         0\n",
      "4 2023-01-05           0         0\n",
      "5 2023-01-06           0         0\n",
      "6 2023-01-07           0         0\n",
      "7 2023-01-08           0         0\n",
      "8 2023-01-09           0         0\n",
      "9 2023-01-10           0         0\n"
     ]
    }
   ],
   "source": [
    "event_days = [\n",
    "    # 연말 시즌\n",
    "    '2023-12-24', '2023-12-31',\n",
    "    '2024-12-24', '2024-12-31',\n",
    "    \n",
    "    # 주요 명절 연휴\n",
    "    '2023-01-20', # 2023년 설날 연휴\n",
    "    '2023-01-25', # 2023년 설날 연휴\n",
    "    \n",
    "    '2023-09-27', # 2023년 추석 연휴\n",
    "    '2023-10-04', # 2023년 추석 연휴\n",
    "\n",
    "    '2024-02-08', # 2024년 설날 연휴\n",
    "    '2024-02-13', # 2024년 설날 연휴\n",
    "\n",
    "    '2024-09-12', # 2024년 추석 연휴 \n",
    "    '2024-09-13', # 2024년 추석 연휴 \n",
    "    '2024-09-19', # 2024년 추석 연휴 \n",
    "    '2024-09-20', # 2024년 추석 연휴 \n",
    "\n",
    "    '2025-01-24', # 2025년 설날 연휴\n",
    "    '2025-01-31', # 2025년 설날 연휴\n",
    "]\n",
    "df_holidays['is_event'] = df_holidays['date'].dt.strftime('%Y-%m-%d').isin(event_days).astype(int)\n",
    "\n",
    "print(\"\\n--- 이벤트로 표시된 날짜 확인 ---\")\n",
    "print(df_holidays[df_holidays['is_event'] == 1])\n",
    "\n",
    "print(\"\\n--- 최종 데이터 확인 ---\")\n",
    "print(df_holidays.head(10))"
   ]
  },
  {
   "cell_type": "code",
   "execution_count": 11,
   "id": "6d5e0d93",
   "metadata": {},
   "outputs": [
    {
     "name": "stdout",
     "output_type": "stream",
     "text": [
      "\n",
      "✅ 공휴일 데이터 생성 완료! 경로: C:\\hanchon\\data\\processed\\holidays_20230101-20250930.csv\n"
     ]
    }
   ],
   "source": [
    "# 저장할 파일 경로와 이름 지정\n",
    "output_path = r'C:\\hanchon\\data\\processed\\holidays_20230101-20250930.csv'\n",
    "\n",
    "# CSV 파일로 저장\n",
    "df_holidays.to_csv(output_path, index=False)\n",
    "\n",
    "print(f\"\\n✅ 공휴일 데이터 생성 완료! 경로: {output_path}\")"
   ]
  },
  {
   "cell_type": "code",
   "execution_count": null,
   "id": "72c62c2f",
   "metadata": {},
   "outputs": [],
   "source": []
  }
 ],
 "metadata": {
  "kernelspec": {
   "display_name": "Python 3",
   "language": "python",
   "name": "python3"
  },
  "language_info": {
   "codemirror_mode": {
    "name": "ipython",
    "version": 3
   },
   "file_extension": ".py",
   "mimetype": "text/x-python",
   "name": "python",
   "nbconvert_exporter": "python",
   "pygments_lexer": "ipython3",
   "version": "3.9.11"
  }
 },
 "nbformat": 4,
 "nbformat_minor": 5
}
