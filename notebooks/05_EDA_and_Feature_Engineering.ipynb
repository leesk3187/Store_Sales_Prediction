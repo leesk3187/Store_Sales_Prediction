{
 "cells": [
  {
   "cell_type": "code",
   "execution_count": 5,
   "id": "5032524d",
   "metadata": {},
   "outputs": [],
   "source": [
    "import pandas as pd\n",
    "import numpy as np"
   ]
  },
  {
   "cell_type": "code",
   "execution_count": null,
   "id": "5fc17b32",
   "metadata": {},
   "outputs": [
    {
     "name": "stdout",
     "output_type": "stream",
     "text": [
      "메뉴명\n",
      "설렁탕          68256\n",
      "얼큰설렁탕        59988\n",
      "공기밥          44882\n",
      "양곰탕          43733\n",
      "UNKNOWN      43694\n",
      "             ...  \n",
      "배)소머리곰탕       6610\n",
      "접시수육          6407\n",
      "맛수육           6404\n",
      "배)갈비만두(大)     6331\n",
      "설렁탕집 육개장      6308\n",
      "Name: count, Length: 100, dtype: int64\n"
     ]
    }
   ],
   "source": [
    "\n",
    "df = pd.read_csv(r'C:\\hanchon\\data\\processed\\final_integrated_dataset.csv')\n",
    "\n",
    "# 가장 많이 팔린 메뉴명 상위 100개 출력\n",
    "print(df['메뉴명'].value_counts().head(100))"
   ]
  },
  {
   "cell_type": "code",
   "execution_count": 3,
   "id": "8dbc4c17",
   "metadata": {},
   "outputs": [
    {
     "name": "stdout",
     "output_type": "stream",
     "text": [
      "\n",
      "--- 세트/조합 메뉴 (총 169835건) ---\n",
      "메뉴명\n",
      "포장육수1+1             16898\n",
      "냉장육수 1+1             8094\n",
      "설렁탕 + 수만두2알          7388\n",
      "얼큰설렁탕 + 수만두2알        5201\n",
      "배)설렁탕 + 수만두2알        4710\n",
      "설렁탕 + 갈비만두3알         4609\n",
      "배)설렁탕 + 갈비만두3알       4546\n",
      "배)1인 설렁탕+갈비만두3       4364\n",
      "배)1인 얼큰설렁탕+수만두2      4220\n",
      "배)1인 설렁탕+수만두2        3325\n",
      "배)얼큰설렁탕 + 수만두2알      3277\n",
      "물냉+수만두2알             3191\n",
      "얼큰설렁탕 + 갈비만두3알       2976\n",
      "배)냉장육수 1+1           2940\n",
      "1인 설렁탕+갈비만두3         2688\n",
      "물냉 + 수만두2알           2632\n",
      "물냉+갈비만두3알            2542\n",
      "배)얼큰설렁탕 + 갈비만두3알     2541\n",
      "비냉+수만두2알             2354\n",
      "비냉 + 수만두2알           2072\n",
      "Name: count, dtype: int64\n",
      "\n",
      "--- 추가/사이드 메뉴 (총 80097건) ---\n",
      "메뉴명\n",
      "배)사리추가            18958\n",
      "배)김치추가            11028\n",
      "(배달)김치추가           9288\n",
      "설렁탕(사리빼고)          3236\n",
      "배)육수추가             2697\n",
      "국수사리 추가            2618\n",
      "설렁탕(사리빼기)          2494\n",
      "공기밥 추가             2295\n",
      "김치추가               2076\n",
      "물냉사리               1517\n",
      "+ 국수사리 추가          1435\n",
      "사리추가 1,000         1153\n",
      "비냉사리               1001\n",
      "배)당면추가              901\n",
      "쿠)사리추가              879\n",
      "콜라 추가               857\n",
      "사리추가                828\n",
      "반찬추가 석박지(깍두기)만      806\n",
      "왕만두(3알) 추가          786\n",
      "갈비만두(5알) 추가         750\n",
      "Name: count, dtype: int64\n"
     ]
    }
   ],
   "source": [
    "# '세트' 또는 '+'가 포함된 메뉴명 탐색\n",
    "set_menu_keywords = '세트|\\+'\n",
    "set_menus = df[df['메뉴명'].str.contains(set_menu_keywords, na=False)]\n",
    "\n",
    "print(f\"\\n--- 세트/조합 메뉴 (총 {len(set_menus)}건) ---\")\n",
    "print(set_menus['메뉴명'].value_counts().head(20))\n",
    "\n",
    "# '추가'가 포함된 메뉴명 탐색\n",
    "side_menu_keywords = '추가|사리'\n",
    "side_menus = df[df['메뉴명'].str.contains(side_menu_keywords, na=False)]\n",
    "\n",
    "print(f\"\\n--- 추가/사이드 메뉴 (총 {len(side_menus)}건) ---\")\n",
    "print(side_menus['메뉴명'].value_counts().head(20))"
   ]
  },
  {
   "cell_type": "code",
   "execution_count": null,
   "id": "ecd6fbcd",
   "metadata": {},
   "outputs": [
    {
     "name": "stdout",
     "output_type": "stream",
     "text": [
      "데이터 로드 완료. 피처 엔지니어링 시작...\n"
     ]
    },
    {
     "name": "stderr",
     "output_type": "stream",
     "text": [
      "C:\\Users\\leesk\\AppData\\Local\\Temp\\ipykernel_79444\\3199427257.py:23: UserWarning: This pattern is interpreted as a regular expression, and has match groups. To actually get the groups, use str.extract.\n",
      "  df['is_delivery_item'] = df['메뉴명'].str.contains(delivery_keywords, na=False).astype(int)\n"
     ]
    },
    {
     "name": "stdout",
     "output_type": "stream",
     "text": [
      "신규 피처 5개(is_fee, is_set, is_side, is_delivery_item, unit_price) 생성 완료\n",
      "\n",
      "--- 수수료 항목(is_fee=1) 확인 ---\n",
      "         메뉴명  unit_price\n",
      "20       배달료         0.0\n",
      "43       배달료         0.0\n",
      "46       배달료         0.0\n",
      "47       배달료         0.0\n",
      "99  배달료 1000         0.0\n",
      "\n",
      "--- 세트 항목(is_set=1) 확인 ---\n",
      "                메뉴명    unit_price\n",
      "14          포장육수1+1   6315.000000\n",
      "19   배)1인 설렁탕+갈비만두3  12152.500000\n",
      "23          포장육수1+1  10824.636364\n",
      "83          포장육수1+1   6526.000000\n",
      "138         포장육수1+1   5406.000000\n"
     ]
    }
   ],
   "source": [
    "# 1. 04단계 통합 데이터셋\n",
    "df = pd.read_csv(r'C:\\hanchon\\data\\processed\\final_integrated_dataset.csv')\n",
    "\n",
    "print(\"데이터 로드 완료. 피처 엔지니어링 시작...\")\n",
    "\n",
    "# 2. 메뉴명 키워드를 기반으로 새로운 카테고리 피처(0 또는 1)를 생성\n",
    "#    na=False는 NaN(UNKNOWN)이 키워드에 포함되지 않도록 한다.\n",
    "\n",
    "# 2a. 비-제품(수수료/행사) 여부\n",
    "fee_keywords = '배달료|배달팁|배달비|행사|보냉백'\n",
    "df['is_fee'] = df['메뉴명'].str.contains(fee_keywords, na=False).astype(int)\n",
    "\n",
    "# 2b. 세트/조합 메뉴 여부\n",
    "set_keywords = '세트|\\+' # '+'는 특수문자라 \\ (역슬래시) 필요\n",
    "df['is_set'] = df['메뉴명'].str.contains(set_keywords, na=False).astype(int)\n",
    "\n",
    "# 2c. 사이드/추가 메뉴 여부\n",
    "side_keywords = '추가|공기밥|사리'\n",
    "df['is_side'] = df['메뉴명'].str.contains(side_keywords, na=False).astype(int)\n",
    "\n",
    "# 2d. 배달/포장/HMR 전용 제품 여부\n",
    "delivery_keywords = '배\\)|(배달)|포장|냉장|HMR'\n",
    "df['is_delivery_item'] = df['메뉴명'].str.contains(delivery_keywords, na=False).astype(int)\n",
    "\n",
    "# 3. 'is_fee'를 활용하여 \"제품\"에 대해서만 단가를 계산합니다.\n",
    "condition = (df['is_fee'] == 0) & (df['수량'] > 0)\n",
    "df['unit_price'] = np.where(\n",
    "    condition,\n",
    "    df['매출액'] / df['수량'],\n",
    "    0  # 수수료, 수량0, UNKNOWN 등은 0원으로 처리\n",
    ")\n",
    "\n",
    "print(\"신규 피처 5개(is_fee, is_set, is_side, is_delivery_item, unit_price) 생성 완료\")\n",
    "\n",
    "# 4. 결과 확인\n",
    "print(\"\\n--- 수수료 항목(is_fee=1) 확인 ---\")\n",
    "print(df[df['is_fee'] == 1][['메뉴명', 'unit_price']].head())\n",
    "\n",
    "print(\"\\n--- 세트 항목(is_set=1) 확인 ---\")\n",
    "print(df[df['is_set'] == 1][['메뉴명', 'unit_price']].head())"
   ]
  },
  {
   "cell_type": "code",
   "execution_count": null,
   "id": "486fafeb",
   "metadata": {},
   "outputs": [
    {
     "name": "stdout",
     "output_type": "stream",
     "text": [
      "\n",
      "✅ 피처 엔지니어링 완료! 모델 학습용 데이터 저장: C:\\hanchon\\data\\processed\\model_ready_dataset.csv\n",
      "<class 'pandas.core.frame.DataFrame'>\n",
      "RangeIndex: 2398650 entries, 0 to 2398649\n",
      "Data columns (total 27 columns):\n",
      " #   Column             Dtype  \n",
      "---  ------             -----  \n",
      " 0   date               object \n",
      " 1   상권                 object \n",
      " 2   홀배달여부              object \n",
      " 3   매장명                object \n",
      " 4   메뉴코드               object \n",
      " 5   메뉴명                object \n",
      " 6   매출액                float64\n",
      " 7   수량                 int64  \n",
      " 8   temp_avg           float64\n",
      " 9   temp_min           float64\n",
      " 10  temp_max           float64\n",
      " 11  precipitation_sum  float64\n",
      " 12  is_holiday         int64  \n",
      " 13  is_event           int64  \n",
      " 14  year               int64  \n",
      " 15  month              int64  \n",
      " 16  quarter            int64  \n",
      " 17  상권지수               float64\n",
      " 18  매장지수               float64\n",
      " 19  floating_pop       float64\n",
      " 20  resident_pop       float64\n",
      " 21  working_pop        float64\n",
      " 22  unit_price         float64\n",
      " 23  is_fee             int32  \n",
      " 24  is_set             int32  \n",
      " 25  is_side            int32  \n",
      " 26  is_delivery_item   int32  \n",
      "dtypes: float64(11), int32(4), int64(6), object(6)\n",
      "memory usage: 457.5+ MB\n",
      "None\n"
     ]
    }
   ],
   "source": [
    "# 5. 모델링에 사용할 최종 데이터셋 저장\n",
    "output_path = r'C:\\hanchon\\data\\processed\\model_ready_dataset.csv'\n",
    "df.to_csv(output_path, index=False)\n",
    "\n",
    "print(f\"\\n피처 엔지니어링 완료! 모델 학습용 데이터 저장: {output_path}\")\n",
    "print(df.info())"
   ]
  },
  {
   "cell_type": "code",
   "execution_count": null,
   "id": "7522e609",
   "metadata": {},
   "outputs": [],
   "source": []
  }
 ],
 "metadata": {
  "kernelspec": {
   "display_name": "Python 3",
   "language": "python",
   "name": "python3"
  },
  "language_info": {
   "codemirror_mode": {
    "name": "ipython",
    "version": 3
   },
   "file_extension": ".py",
   "mimetype": "text/x-python",
   "name": "python",
   "nbconvert_exporter": "python",
   "pygments_lexer": "ipython3",
   "version": "3.9.11"
  }
 },
 "nbformat": 4,
 "nbformat_minor": 5
}
